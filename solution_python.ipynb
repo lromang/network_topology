{
 "cells": [
  {
   "cell_type": "markdown",
   "metadata": {},
   "source": [
    "# Simulacion de voronoi python"
   ]
  },
  {
   "cell_type": "code",
   "execution_count": 137,
   "metadata": {
    "collapsed": false
   },
   "outputs": [],
   "source": [
    "import pandas as pd\n",
    "import numpy as np\n",
    "import csv\n",
    "import urllib2\n",
    "import urllib\n",
    "import time\n",
    "import json \n",
    "import requests\n",
    "import pickle\n",
    "from scipy.spatial import Voronoi, voronoi_plot_2d\n",
    "import matplotlib.pyplot as plt\n",
    "\n",
    "\n",
    "########################### Flags ##############################\n",
    "UPDATE_DATA = False\n",
    "\n",
    "######################## Constants #############################\n",
    "DELAY = 7\n",
    "\n",
    "MINIMUM_RANK = 3\n",
    "NETWORK_TYPE = 'type3G'\n",
    "RELIABILITY = 'reliability'\n",
    "FIRST_ITEM = 0\n",
    "BIG_POPULATION = 10000\n",
    "MEDIUM_POPULATION = 1000\n",
    "SMALL_POPULATION = 100\n",
    "MIN_NETWORK_PARM = 11"
   ]
  },
  {
   "cell_type": "code",
   "execution_count": 138,
   "metadata": {
    "collapsed": false
   },
   "outputs": [],
   "source": [
    "#Read data from censo cvs\n",
    "labels = [\"idx\",\"ent\",\"mun\",\"nom_mun\",\"nom_loc\",\"lon\",\"lat\",\"pob\"]\n",
    "data = pd.read_csv('dataCenso.csv', names=labels)\n",
    "\n",
    "#Remove idx column\n",
    "del data['idx']\n"
   ]
  },
  {
   "cell_type": "code",
   "execution_count": 139,
   "metadata": {
    "collapsed": false
   },
   "outputs": [],
   "source": [
    "#####################################################################\n",
    "#           Function to obtain connectivity by village              #\n",
    "# @param lat (double) latitude village                              #\n",
    "# @param lon (double) longitude village                             #\n",
    "# @param dist (int)                                                 #\n",
    "# @param net (int) network type G3                                  #\n",
    "#####################################################################\n",
    "def get_connect (lat, lon, dist=20, net=3):\n",
    "    url = \"http://api.opensignal.com/v2/networkstats.json\"\n",
    "    apikey = \"apikey=f6feae3aa4ddf7d4d25522cf3256d39d\"\n",
    "    network_type = \"network_type=\"+str(net)\n",
    "    json_format = \"json_format=2\" \n",
    "    distance = \"distance=\"+ str(dist)                    \n",
    "    network_inf = []\n",
    "    \n",
    "    for lat_i, lon_i in zip(lat,lon):\n",
    "        lat = \"lat=\" + lat_i\n",
    "        lng = \"lng=\" + lon_i\n",
    "        url_values = \"&\"+lat+\"&\"+lng+\"&\"+distance+\"&\"+json_format+\"&\"+network_type+\"&\"+apikey\n",
    "        full_url = url + '?' + url_values\n",
    "        r = requests.get(full_url)\n",
    "        network_inf.append(json.loads(r.text))\n",
    "        time.sleep(DELAY)\n",
    "\n",
    "    return network_inf\n"
   ]
  },
  {
   "cell_type": "code",
   "execution_count": 140,
   "metadata": {
    "collapsed": false
   },
   "outputs": [],
   "source": [
    "# We ll work with entity 7 (Chiapas)\n",
    "entity_data = data[data['ent']=='7']\n",
    "population = pd.to_numeric(entity_data['pob'])\n",
    "\n",
    "# Divide by population in three classes, big, medium and small\n",
    "big_towns = entity_data[population > BIG_POPULATION]\n",
    "medium_towns = entity_data[(population > MEDIUM_POPULATION) & (population < BIG_POPULATION)]\n",
    "small_towns = entity_data[(population > SMALL_POPULATION) & (population < MEDIUM_POPULATION)]\n",
    "   \n"
   ]
  },
  {
   "cell_type": "code",
   "execution_count": 141,
   "metadata": {
    "collapsed": true
   },
   "outputs": [],
   "source": [
    "#####################################################################\n",
    "#           Function to obtain connectivity by class                #\n",
    "# @param class_town (dataframe) contain all values from cv          #\n",
    "# @param classname (string) name of files to store                  #\n",
    "#####################################################################\n",
    "def obtain_town_data(class_town, classname, update_data = False):\n",
    "    if update_data:\n",
    "        #Only update if is necesary \n",
    "        connect_class_towns = get_connect(class_town['lat'].values, class_town['lon'].values)\n",
    "        with open('connect_'+classname+'_towns.txt', 'wb') as f:\n",
    "            pickle.dump(connect_class_towns, f)\n",
    "    else:\n",
    "        #Else read from file\n",
    "        with open('connect_'+classname+'_towns.txt', 'rb') as f:\n",
    "            connect_class_towns = pickle.load(f)\n",
    "    return connect_class_towns"
   ]
  },
  {
   "cell_type": "code",
   "execution_count": 143,
   "metadata": {
    "collapsed": false
   },
   "outputs": [],
   "source": [
    "#####################################################################\n",
    "#                            BIG TOWNS                              # \n",
    "#####################################################################\n",
    "connect_big_towns = obtain_town_data(big_towns, 'big', UPDATE_DATA)\n",
    "\n",
    "#We ll work with networkRank\n",
    "rank_big = [item['networkRank'] for item in connect_big_towns if 'networkRank' in item.keys()]\n",
    "\n",
    "#   Filter by min_ranl, networkRank is a list at least one element, only work with first element\n",
    "rank_big = [item[FIRST_ITEM] for item in rank_big if len(item[FIRST_ITEM]) >= MINIMUM_RANK] \n",
    "\n",
    "net_type_big = [item[NETWORK_TYPE] for item in rank_big]\n",
    "\n",
    "#   Filter by min network param \n",
    "net_type_big = [item for item in net_type_big if len(item)  >= MIN_NETWORK_PARM]\n",
    "\n",
    "# Reliability of each station\n",
    "relia_big = [item[RELIABILITY] for item in net_type_big]\n",
    "\n",
    "#Voronoi with library\n",
    "vor = Voronoi(zip(big_towns['lat'].values, big_towns['lon'].values))\n",
    "voronoi_plot_2d(vor)\n",
    "plt.show()"
   ]
  }
 ],
 "metadata": {
  "kernelspec": {
   "display_name": "Python 2",
   "language": "python",
   "name": "python2"
  },
  "language_info": {
   "codemirror_mode": {
    "name": "ipython",
    "version": 2
   },
   "file_extension": ".py",
   "mimetype": "text/x-python",
   "name": "python",
   "nbconvert_exporter": "python",
   "pygments_lexer": "ipython2",
   "version": "2.7.9"
  }
 },
 "nbformat": 4,
 "nbformat_minor": 1
}
