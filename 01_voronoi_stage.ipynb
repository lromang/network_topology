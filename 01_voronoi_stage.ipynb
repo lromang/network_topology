{
 "cells": [
  {
   "cell_type": "markdown",
   "metadata": {},
   "source": [
    "# Voronoi python"
   ]
  },
  {
   "cell_type": "code",
   "execution_count": 1,
   "metadata": {
    "collapsed": false
   },
   "outputs": [],
   "source": [
    "import pandas as pd\n",
    "import numpy as np\n",
    "import csv\n",
    "import urllib2\n",
    "import urllib\n",
    "import time\n",
    "import json \n",
    "import requests\n",
    "import pickle\n",
    "import os.path\n",
    "from scipy.spatial import Voronoi, voronoi_plot_2d\n",
    "import matplotlib.pyplot as plt\n",
    "%matplotlib inline\n",
    "\n",
    "\n",
    "########################### Flags ##############################\n",
    "UPDATE_DATA = True\n",
    "\n",
    "######################## Constants #############################\n",
    "DELAY = 8\n",
    "\n",
    "MINIMUM_RANK = 3\n",
    "FILE_NAME = 'api_info_%s_towns.txt'\n",
    "CONNECT_FILE_NAME = 'connect_%s_towns.json'\n",
    "NOT_CONNECT_FILE_NAME = 'not_connect_%s_towns.json'\n",
    "NETWORK_TYPE = 'type3G'\n",
    "RELIABILITY = 'reliability'\n",
    "FIRST_ITEM = 0\n",
    "BIG_POPULATION = 10000\n",
    "MEDIUM_POPULATION = 1000\n",
    "SMALL_POPULATION = 100\n",
    "MIN_NETWORK_PARM = 11"
   ]
  },
  {
   "cell_type": "code",
   "execution_count": 2,
   "metadata": {
    "collapsed": false
   },
   "outputs": [],
   "source": [
    "#####################################################################\n",
    "#           Function to obtain connectivity by village              #\n",
    "# @param lat (double) latitude village                              #\n",
    "# @param lon (double) longitude village                             #\n",
    "# @param dist (int)                                                 #\n",
    "# @param net (int) network type G3                                  #\n",
    "#####################################################################\n",
    "def get_connect (lat, lon, dist=20, net=3):\n",
    "    url = \"http://api.opensignal.com/v2/networkstats.json\"\n",
    "    apikey = \"apikey=19d7044b0944ecbd3c67ee64455abf42\"\n",
    "    network_type = \"network_type=\"+str(net)\n",
    "    json_format = \"json_format=2\" \n",
    "    distance = \"distance=\"+ str(dist)                    \n",
    "    network_inf = []\n",
    "    \n",
    "    for lat_i, lon_i in zip(lat,lon):\n",
    "        lat = \"lat=\" + str(lat_i)\n",
    "        lng = \"lng=\" + str(lon_i)\n",
    "        url_values = \"&\"+lat+\"&\"+lng+\"&\"+distance+\"&\"+json_format+\"&\"+network_type+\"&\"+apikey\n",
    "        full_url = url + '?' + url_values\n",
    "        r = requests.get(full_url)\n",
    "        json_object = json.loads(r.text)\n",
    "        json_object['lat'] = lat_i\n",
    "        json_object['lon'] = lon_i\n",
    "        network_inf.append(json_object)\n",
    "        time.sleep(DELAY)\n",
    "\n",
    "    return network_inf\n"
   ]
  },
  {
   "cell_type": "code",
   "execution_count": 3,
   "metadata": {
    "collapsed": false
   },
   "outputs": [],
   "source": [
    "#####################################################################\n",
    "#           Function to obtain connectivity by class                #\n",
    "# @param class_town (dataframe) contain all values from cv          #\n",
    "# @param classname (string) name of files to store                  #\n",
    "#####################################################################\n",
    "def obtain_town_data(class_town, classname, update_data = False):\n",
    "    file_name = FILE_NAME % classname\n",
    "    if update_data or not os.path.isfile(file_name):\n",
    "        #Only update if is necesary \n",
    "        connect_class_towns = get_connect(class_town['lat'].values, class_town['lon'].values)\n",
    "        with open(file_name, 'wb') as f:\n",
    "            pickle.dump(connect_class_towns, f)\n",
    "    else:\n",
    "        #Else read from file\n",
    "        with open(file_name, 'rb') as f:\n",
    "            connect_class_towns = pickle.load(f)\n",
    "    return connect_class_towns"
   ]
  },
  {
   "cell_type": "code",
   "execution_count": 4,
   "metadata": {
    "collapsed": false
   },
   "outputs": [],
   "source": [
    "#Read data from censo cvs\n",
    "labels = [\"idx\",\"ent\",\"mun\",\"nom_mun\",\"nom_loc\",\"lon\",\"lat\",\"pob\"]\n",
    "data = pd.read_csv('dataCenso.csv', names=labels, low_memory = False)\n",
    "\n",
    "#Remove idx column\n",
    "del data['idx']\n"
   ]
  },
  {
   "cell_type": "code",
   "execution_count": 5,
   "metadata": {
    "collapsed": false
   },
   "outputs": [
    {
     "data": {
      "text/html": [
       "<div>\n",
       "<table border=\"1\" class=\"dataframe\">\n",
       "  <thead>\n",
       "    <tr style=\"text-align: right;\">\n",
       "      <th></th>\n",
       "      <th>ent</th>\n",
       "      <th>mun</th>\n",
       "      <th>nom_mun</th>\n",
       "      <th>nom_loc</th>\n",
       "      <th>lon</th>\n",
       "      <th>lat</th>\n",
       "      <th>pob</th>\n",
       "    </tr>\n",
       "  </thead>\n",
       "  <tbody>\n",
       "    <tr>\n",
       "      <th>0</th>\n",
       "      <td>ent</td>\n",
       "      <td>mun</td>\n",
       "      <td>nom_mun</td>\n",
       "      <td>nom_loc</td>\n",
       "      <td>long</td>\n",
       "      <td>lat</td>\n",
       "      <td>pob</td>\n",
       "    </tr>\n",
       "    <tr>\n",
       "      <th>1</th>\n",
       "      <td>1</td>\n",
       "      <td>1</td>\n",
       "      <td>Aguascalientes</td>\n",
       "      <td>Aguascalientes</td>\n",
       "      <td>-102.411111111111</td>\n",
       "      <td>22.0083333333333</td>\n",
       "      <td>722250</td>\n",
       "    </tr>\n",
       "    <tr>\n",
       "      <th>2</th>\n",
       "      <td>1</td>\n",
       "      <td>1</td>\n",
       "      <td>Aguascalientes</td>\n",
       "      <td>Granja Adelita</td>\n",
       "      <td>-102.436111111111</td>\n",
       "      <td>21.9194444444444</td>\n",
       "      <td>14</td>\n",
       "    </tr>\n",
       "    <tr>\n",
       "      <th>3</th>\n",
       "      <td>1</td>\n",
       "      <td>1</td>\n",
       "      <td>Aguascalientes</td>\n",
       "      <td>Agua Azul</td>\n",
       "      <td>-102.425</td>\n",
       "      <td>21.8916666666667</td>\n",
       "      <td>37</td>\n",
       "    </tr>\n",
       "    <tr>\n",
       "      <th>4</th>\n",
       "      <td>1</td>\n",
       "      <td>1</td>\n",
       "      <td>Aguascalientes</td>\n",
       "      <td>Rancho Alegre</td>\n",
       "      <td>-102.427777777778</td>\n",
       "      <td>21.8944444444444</td>\n",
       "      <td>10</td>\n",
       "    </tr>\n",
       "  </tbody>\n",
       "</table>\n",
       "</div>"
      ],
      "text/plain": [
       "   ent  mun         nom_mun         nom_loc                lon  \\\n",
       "0  ent  mun         nom_mun         nom_loc               long   \n",
       "1    1    1  Aguascalientes  Aguascalientes  -102.411111111111   \n",
       "2    1    1  Aguascalientes  Granja Adelita  -102.436111111111   \n",
       "3    1    1  Aguascalientes       Agua Azul           -102.425   \n",
       "4    1    1  Aguascalientes   Rancho Alegre  -102.427777777778   \n",
       "\n",
       "                lat     pob  \n",
       "0               lat     pob  \n",
       "1  22.0083333333333  722250  \n",
       "2  21.9194444444444      14  \n",
       "3  21.8916666666667      37  \n",
       "4  21.8944444444444      10  "
      ]
     },
     "execution_count": 5,
     "metadata": {},
     "output_type": "execute_result"
    }
   ],
   "source": [
    "data.head()"
   ]
  },
  {
   "cell_type": "code",
   "execution_count": null,
   "metadata": {
    "collapsed": false
   },
   "outputs": [],
   "source": [
    "# We ll work with entity 7 (Chiapas)\n",
    "entity_data = data[data['ent']=='7']\n",
    "population = pd.to_numeric(entity_data['pob'])\n",
    "\n",
    "# Divide by population in three classes, big, medium and small\n",
    "big_towns = entity_data[population > BIG_POPULATION]\n",
    "medium_towns = entity_data[(population > MEDIUM_POPULATION) & (population < BIG_POPULATION)]\n",
    "small_towns = entity_data[(population > SMALL_POPULATION) & (population < MEDIUM_POPULATION)]\n",
    "union_towns = pd.concat([big_towns, medium_towns])\n",
    "class_name = 'big_medium'\n"
   ]
  },
  {
   "cell_type": "code",
   "execution_count": null,
   "metadata": {
    "collapsed": false
   },
   "outputs": [],
   "source": [
    "#####################################################################\n",
    "#                       UNION TOWNS                                 # \n",
    "#####################################################################\n",
    "api_union_towns = obtain_town_data(union_towns, class_name, update_data = UPDATE_DATA)\n",
    "api_union_towns= pd.DataFrame(api_union_towns)\n",
    "\n",
    "api_union_towns['networkRank'] = api_union_towns['networkRank'].fillna('Missing')\n",
    "\n",
    "connect_towns = api_union_towns[api_union_towns.networkRank != 'Missing']\n",
    "not_connect_towns = api_union_towns[api_union_towns.networkRank == 'Missing']\n",
    "\n",
    "\n",
    "#   Filter by min_ranl, networkRank is a list at least one element, only work with first element\n",
    "rank_union = [item[FIRST_ITEM] for item in connect_towns.networkRank.iteritems() if len(item) >= MINIMUM_RANK] \n",
    "\n",
    "net_type_union = [item[NETWORK_TYPE] for item in rank_union ]\n",
    "#   Filter by min network param \n",
    "net_type_union = [item for item in net_type_union if len(item)  >= MIN_NETWORK_PARM]\n",
    "# Reliability of each station\n",
    "relia_union = [item[RELIABILITY] for item in net_type_union]\n",
    "\n",
    "\n",
    "connect_towns = connect_towns[['lon','lat']]\n",
    "not_connect_towns = not_connect_towns[['lon','lat']]\n",
    "#####  Save results to file \n",
    "if True:\n",
    "    connect_json = connect_towns.to_json(CONNECT_FILE_NAME %class_name)\n",
    "    not_connect_json = not_connect_towns.to_json(NOT_CONNECT_FILE_NAME %class_name)\n",
    "\n",
    "\n",
    "#Voronoi with library                                                                                                                                                                                                                                                                                                                                                                                                                                                                                                                                                                                                                                                                                                                                                                                                                                                                                                                                                                                                                                                                                                                                                                                                                                                                                                                                                                                                                                                                                                                                                                                                                                                                                                                                                                                                                                                                                           \n",
    "voronoi_connect_towns = Voronoi(zip(connect_towns['lat'].values, connect_towns['lon'].values))\n",
    "voronoi_plot_2d(voronoi_connect_towns)\n",
    "plt.show()\n",
    "\n",
    "\n"
   ]
  }
 ],
 "metadata": {
  "kernelspec": {
   "display_name": "Python 2",
   "language": "python",
   "name": "python2"
  },
  "language_info": {
   "codemirror_mode": {
    "name": "ipython",
    "version": 2
   },
   "file_extension": ".py",
   "mimetype": "text/x-python",
   "name": "python",
   "nbconvert_exporter": "python",
   "pygments_lexer": "ipython2",
   "version": "2.7.9"
  }
 },
 "nbformat": 4,
 "nbformat_minor": 1
}
